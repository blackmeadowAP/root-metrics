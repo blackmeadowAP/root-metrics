{
  "nbformat": 4,
  "nbformat_minor": 0,
  "metadata": {
    "colab": {
      "provenance": []
    },
    "kernelspec": {
      "name": "python3",
      "display_name": "Python 3"
    },
    "language_info": {
      "name": "python"
    }
  },
  "cells": [
    {
      "cell_type": "code",
      "execution_count": null,
      "metadata": {
        "colab": {
          "base_uri": "https://localhost:8080/"
        },
        "id": "4TaS9BieraGR",
        "outputId": "c602d3aa-5db4-4f37-9c68-aed6cd1f2cc8"
      },
      "outputs": [
        {
          "output_type": "stream",
          "name": "stdout",
          "text": [
            "Drive already mounted at /content/drive; to attempt to forcibly remount, call drive.mount(\"/content/drive\", force_remount=True).\n",
            "Исходный путь к рабочей директории:  /content\n",
            "Новый путь к рабочей директории:  /content/drive/MyDrive/CNN/photo mass detector\n"
          ]
        }
      ],
      "source": [
        "import cv2\n",
        "import numpy as np\n",
        "import os\n",
        "import imutils\n",
        "import pandas as pd\n",
        "from google.colab import drive\n",
        "import numpy as np\n",
        "drive.mount('/content/drive')\n",
        "path = '/content/drive/MyDrive/CNN/photo mass detector/'\n",
        "print(\"Исходный путь к рабочей директории: \", os.getcwd())\n",
        "os.chdir(path)\n",
        "print(\"Новый путь к рабочей директории: \", os.getcwd())\n",
        "from google.colab.patches import cv2_imshow\n",
        "from PIL import Image"
      ]
    },
    {
      "cell_type": "code",
      "source": [
        "#отрисовка контуров на первичном сыром изображении\n",
        "def image_contour(image):\n",
        "  raw = image.copy()\n",
        "\n",
        "  # Примените фильтр медианного размытия\n",
        "  blurred_image = cv2.medianBlur(image, 5)\n",
        "\n",
        "  # Создайте фильтр уточнения границ\n",
        "  kernel = np.array([[-1, -1, -1], [-1, 9, -1], [-1, -1, -1]])\n",
        "\n",
        "  # Примените фильтр к изображению\n",
        "  sharp_image = cv2.filter2D(blurred_image, -1, kernel)\n",
        "\n",
        "  # Преобразуйте изображение в градации серого\n",
        "  gray = cv2.cvtColor(sharp_image, cv2.COLOR_BGR2GRAY)\n",
        "\n",
        "  # Создайте экземпляр фильтра CLAHE\n",
        "  clahe = cv2.createCLAHE(clipLimit=2.0, tileGridSize=(8, 8))\n",
        "\n",
        "  # Примените фильтр CLAHE к градациям серого изображения\n",
        "  contrast_enhanced = clahe.apply(gray)\n",
        "\n",
        "  _, thresh = cv2.threshold(contrast_enhanced, 250, 255, cv2.THRESH_BINARY_INV + cv2.THRESH_OTSU)\n",
        "\n",
        "\n",
        "  # Поиск контуров на бинаризованном изображении\n",
        "\n",
        "  #contours, _ = cv2.findContours(thresh, cv2.RETR_EXTERNAL, cv2.CHAIN_APPROX_SIMPLE)\n",
        "  contours, _ = cv2.findContours(thresh, cv2.RETR_CCOMP, cv2.CHAIN_APPROX_SIMPLE)\n",
        "\n",
        "  return(contours, raw, contrast_enhanced)\n",
        "\n",
        "#отрисовка контура чашки на изображении, чтобы потом по нему создать маску\n",
        "def image_petri_cnt(raw, cnts_petri):\n",
        "\n",
        "  #отрисовка незаметного контура\n",
        "  raw_new = cv2.drawContours(raw, [cnts_petri], -1, (0, 1, 0), 2)\n",
        "  #cv2_imshow(raw_new)\n",
        "  # создаём маску по контуру чашки петри\n",
        "  gray = cv2.cvtColor(raw, cv2.COLOR_RGB2GRAY)\n",
        "  mask = np.zeros(gray.shape,np.uint8)\n",
        "  mask = cv2.drawContours(mask, [cnts_petri], -1, 255, cv2.FILLED)\n",
        "  fg_masked = cv2.bitwise_and(raw_new, raw_new, mask=mask)\n",
        "\n",
        "  # белый фон (используем инвертированную маску)\n",
        "  mask = cv2.bitwise_not(mask)\n",
        "  bk = np.full(raw_new.shape, 255, dtype=np.uint8)\n",
        "  bk_masked = cv2.bitwise_and(bk, bk, mask=mask)\n",
        "\n",
        "  # сливаем фон и передний план\n",
        "  final = cv2.bitwise_or(fg_masked, bk_masked)\n",
        "  return(final)\n",
        "\n",
        "#обрезает изображение по контуру чашки петри,после чего можно отрисовывать\n",
        "#контуры внутри чашки(потенциально полезные)\n",
        "#final - изображение, которое будет обрезаться.\n",
        "#path_cutted_petri - путь, куда сохранится обрезанное изображение\n",
        "def image_petri_cnt_cutter(final, path_cutted_petri):\n",
        "  #код для разложения и обрезки изображения по маске контура круга чашки петри\n",
        "  gray = cv2.cvtColor(final, cv2.COLOR_RGB2GRAY)\n",
        "  thresh = cv2.threshold(gray, 195, 255, cv2.THRESH_BINARY)[1]\n",
        "  thresh = cv2.bitwise_not(thresh)\n",
        "  cnts_in_petri = cv2.findContours(thresh.copy(), cv2.RETR_EXTERNAL, cv2.CHAIN_APPROX_SIMPLE)\n",
        "  cnts_in_petri = imutils.grab_contours(cnts_in_petri)\n",
        "  cnts_in_petri = sorted(cnts_in_petri, key=cv2.contourArea, reverse=True)[:10]\n",
        "\n",
        "  #обработка каждого контура\n",
        "  i = 0\n",
        "  for c in cnts_in_petri:\n",
        "    if cv2.contourArea(c) > 1000:\n",
        "\n",
        "      #рисование маски, оставляем контур\n",
        "      mask = np.zeros(gray.shape, np.uint8)\n",
        "      mask = cv2.drawContours(mask, [c], -1, 255, cv2.FILLED)\n",
        "\n",
        "      #белый фон\n",
        "      fg_masked = cv2.bitwise_and(raw, raw, mask=mask)\n",
        "      mask = cv2.bitwise_not(mask)\n",
        "      bk = np.full(raw.shape, 255, dtype=np.uint8)\n",
        "      bk_masked = cv2.bitwise_and(bk, bk, mask=mask)\n",
        "      finalcont = cv2.bitwise_or(fg_masked, bk_masked)\n",
        "\n",
        "      #ограничивающая область по контуру\n",
        "      output = finalcont.copy()\n",
        "      x,y,w,h = cv2.boundingRect(c)\n",
        "\n",
        "      #вырезание области с чашкой\n",
        "      roi = finalcont[y:y+h, x:x+w]\n",
        "\n",
        "      #команда для изменения размера изображения если оно будет подаваться в нейросеть\n",
        "      #roi = cv2.resize(roi, (400,400))\n",
        "\n",
        "      #сохраняем картинку\n",
        "      cv2.imwrite(path_cutted_petri, roi)\n",
        "      #cv2_imshow(roi)\n",
        "      i += 1\n",
        "      return(roi)\n",
        "\n",
        "#функция разархивации для датасетов\n",
        "#archive_format = \"zip\"\n",
        "def archive_extractor(path, extract_dir, archive_format):\n",
        "  import shutil\n",
        "  shutil.unpack_archive(path, extract_dir, archive_format)\n",
        "  print(\"Archive file unpacked successfully.\")\n",
        "\n",
        "def filenames_finder(path):\n",
        "  filenames = [f for f in os.listdir(path) if os.path.isfile(os.path.join(path, f))]\n",
        "  return(filenames)\n"
      ],
      "metadata": {
        "id": "y_8k4nTZrbwy"
      },
      "execution_count": null,
      "outputs": []
    },
    {
      "cell_type": "code",
      "source": [
        "path = '/content/drive/MyDrive/CNN/photo mass detector/regression model low train.zip'\n",
        "extract_dir = '/content/drive/MyDrive/CNN/photo mass detector/regression model'\n",
        "archive_format = \"zip\"\n",
        "archive_extractor(path, extract_dir, archive_format)"
      ],
      "metadata": {
        "colab": {
          "base_uri": "https://localhost:8080/",
          "height": 321
        },
        "id": "5HRe6iwybQia",
        "outputId": "3cda30b0-5465-408a-ff9e-061cf7a10bf0"
      },
      "execution_count": null,
      "outputs": [
        {
          "output_type": "error",
          "ename": "ReadError",
          "evalue": "/content/drive/MyDrive/CNN/photo mass detector/regression model low train.zip is not a zip file",
          "traceback": [
            "\u001b[0;31m---------------------------------------------------------------------------\u001b[0m",
            "\u001b[0;31mReadError\u001b[0m                                 Traceback (most recent call last)",
            "\u001b[0;32m<ipython-input-5-60c3faf19a96>\u001b[0m in \u001b[0;36m<cell line: 4>\u001b[0;34m()\u001b[0m\n\u001b[1;32m      2\u001b[0m \u001b[0mextract_dir\u001b[0m \u001b[0;34m=\u001b[0m \u001b[0;34m'/content/drive/MyDrive/CNN/photo mass detector/regression model'\u001b[0m\u001b[0;34m\u001b[0m\u001b[0;34m\u001b[0m\u001b[0m\n\u001b[1;32m      3\u001b[0m \u001b[0marchive_format\u001b[0m \u001b[0;34m=\u001b[0m \u001b[0;34m\"zip\"\u001b[0m\u001b[0;34m\u001b[0m\u001b[0;34m\u001b[0m\u001b[0m\n\u001b[0;32m----> 4\u001b[0;31m \u001b[0marchive_extractor\u001b[0m\u001b[0;34m(\u001b[0m\u001b[0mpath\u001b[0m\u001b[0;34m,\u001b[0m \u001b[0mextract_dir\u001b[0m\u001b[0;34m,\u001b[0m \u001b[0marchive_format\u001b[0m\u001b[0;34m)\u001b[0m\u001b[0;34m\u001b[0m\u001b[0;34m\u001b[0m\u001b[0m\n\u001b[0m",
            "\u001b[0;32m<ipython-input-2-87ca7f725b2d>\u001b[0m in \u001b[0;36marchive_extractor\u001b[0;34m(path, extract_dir, archive_format)\u001b[0m\n\u001b[1;32m    101\u001b[0m \u001b[0;32mdef\u001b[0m \u001b[0marchive_extractor\u001b[0m\u001b[0;34m(\u001b[0m\u001b[0mpath\u001b[0m\u001b[0;34m,\u001b[0m \u001b[0mextract_dir\u001b[0m\u001b[0;34m,\u001b[0m \u001b[0marchive_format\u001b[0m\u001b[0;34m)\u001b[0m\u001b[0;34m:\u001b[0m\u001b[0;34m\u001b[0m\u001b[0;34m\u001b[0m\u001b[0m\n\u001b[1;32m    102\u001b[0m   \u001b[0;32mimport\u001b[0m \u001b[0mshutil\u001b[0m\u001b[0;34m\u001b[0m\u001b[0;34m\u001b[0m\u001b[0m\n\u001b[0;32m--> 103\u001b[0;31m   \u001b[0mshutil\u001b[0m\u001b[0;34m.\u001b[0m\u001b[0munpack_archive\u001b[0m\u001b[0;34m(\u001b[0m\u001b[0mpath\u001b[0m\u001b[0;34m,\u001b[0m \u001b[0mextract_dir\u001b[0m\u001b[0;34m,\u001b[0m \u001b[0marchive_format\u001b[0m\u001b[0;34m)\u001b[0m\u001b[0;34m\u001b[0m\u001b[0;34m\u001b[0m\u001b[0m\n\u001b[0m\u001b[1;32m    104\u001b[0m   \u001b[0mprint\u001b[0m\u001b[0;34m(\u001b[0m\u001b[0;34m\"Archive file unpacked successfully.\"\u001b[0m\u001b[0;34m)\u001b[0m\u001b[0;34m\u001b[0m\u001b[0;34m\u001b[0m\u001b[0m\n\u001b[1;32m    105\u001b[0m \u001b[0;34m\u001b[0m\u001b[0m\n",
            "\u001b[0;32m/usr/lib/python3.10/shutil.py\u001b[0m in \u001b[0;36munpack_archive\u001b[0;34m(filename, extract_dir, format, filter)\u001b[0m\n\u001b[1;32m   1303\u001b[0m \u001b[0;34m\u001b[0m\u001b[0m\n\u001b[1;32m   1304\u001b[0m         \u001b[0mfunc\u001b[0m \u001b[0;34m=\u001b[0m \u001b[0mformat_info\u001b[0m\u001b[0;34m[\u001b[0m\u001b[0;36m1\u001b[0m\u001b[0;34m]\u001b[0m\u001b[0;34m\u001b[0m\u001b[0;34m\u001b[0m\u001b[0m\n\u001b[0;32m-> 1305\u001b[0;31m         \u001b[0mfunc\u001b[0m\u001b[0;34m(\u001b[0m\u001b[0mfilename\u001b[0m\u001b[0;34m,\u001b[0m \u001b[0mextract_dir\u001b[0m\u001b[0;34m,\u001b[0m \u001b[0;34m**\u001b[0m\u001b[0mdict\u001b[0m\u001b[0;34m(\u001b[0m\u001b[0mformat_info\u001b[0m\u001b[0;34m[\u001b[0m\u001b[0;36m2\u001b[0m\u001b[0;34m]\u001b[0m\u001b[0;34m)\u001b[0m\u001b[0;34m,\u001b[0m \u001b[0;34m**\u001b[0m\u001b[0mfilter_kwargs\u001b[0m\u001b[0;34m)\u001b[0m\u001b[0;34m\u001b[0m\u001b[0;34m\u001b[0m\u001b[0m\n\u001b[0m\u001b[1;32m   1306\u001b[0m     \u001b[0;32melse\u001b[0m\u001b[0;34m:\u001b[0m\u001b[0;34m\u001b[0m\u001b[0;34m\u001b[0m\u001b[0m\n\u001b[1;32m   1307\u001b[0m         \u001b[0;31m# we need to look at the registered unpackers supported extensions\u001b[0m\u001b[0;34m\u001b[0m\u001b[0;34m\u001b[0m\u001b[0m\n",
            "\u001b[0;32m/usr/lib/python3.10/shutil.py\u001b[0m in \u001b[0;36m_unpack_zipfile\u001b[0;34m(filename, extract_dir)\u001b[0m\n\u001b[1;32m   1199\u001b[0m \u001b[0;34m\u001b[0m\u001b[0m\n\u001b[1;32m   1200\u001b[0m     \u001b[0;32mif\u001b[0m \u001b[0;32mnot\u001b[0m \u001b[0mzipfile\u001b[0m\u001b[0;34m.\u001b[0m\u001b[0mis_zipfile\u001b[0m\u001b[0;34m(\u001b[0m\u001b[0mfilename\u001b[0m\u001b[0;34m)\u001b[0m\u001b[0;34m:\u001b[0m\u001b[0;34m\u001b[0m\u001b[0;34m\u001b[0m\u001b[0m\n\u001b[0;32m-> 1201\u001b[0;31m         \u001b[0;32mraise\u001b[0m \u001b[0mReadError\u001b[0m\u001b[0;34m(\u001b[0m\u001b[0;34m\"%s is not a zip file\"\u001b[0m \u001b[0;34m%\u001b[0m \u001b[0mfilename\u001b[0m\u001b[0;34m)\u001b[0m\u001b[0;34m\u001b[0m\u001b[0;34m\u001b[0m\u001b[0m\n\u001b[0m\u001b[1;32m   1202\u001b[0m \u001b[0;34m\u001b[0m\u001b[0m\n\u001b[1;32m   1203\u001b[0m     \u001b[0mzip\u001b[0m \u001b[0;34m=\u001b[0m \u001b[0mzipfile\u001b[0m\u001b[0;34m.\u001b[0m\u001b[0mZipFile\u001b[0m\u001b[0;34m(\u001b[0m\u001b[0mfilename\u001b[0m\u001b[0;34m)\u001b[0m\u001b[0;34m\u001b[0m\u001b[0;34m\u001b[0m\u001b[0m\n",
            "\u001b[0;31mReadError\u001b[0m: /content/drive/MyDrive/CNN/photo mass detector/regression model low train.zip is not a zip file"
          ]
        }
      ]
    },
    {
      "cell_type": "code",
      "source": [
        "#НАРЕЗКА СЫРЫХ ИЗОБРАЖЕНИЙ НА ROI\n",
        "#путь с папкой сырых изображений\n",
        "path_roi = '/content/drive/MyDrive/CNN/photo mass detector/fenton/test'\n",
        "\n",
        "#путь куда сохранять обрезанные изображения\n",
        "path_cutted_roi = '/content/drive/MyDrive/CNN/photo mass detector/fenton/roi'\n",
        "\n",
        "#создание списка имен изображений в папке\n",
        "filenames_Mn = filenames_finder(path_roi)\n",
        "\n",
        "#удаление имени объекта .ipynb из списка с именами изображений\n",
        "filenames_Mn.pop(-1)\n",
        "filenames_Mn = sorted(filenames_Mn)\n",
        "\n",
        "#цикл перебирает каждое исходное изображение, обрезает до чашки, сохраняет в новую папку\n",
        "for el in filenames_Mn:\n",
        "  print(el)\n",
        "  path_cut = os.path.join(path_roi, el)\n",
        "  test1 = cv2.imread(path_cut)\n",
        "  contours, raw, contrast_enhanced = image_contour(test1)\n",
        "\n",
        "  #путь сохранения обрезанного изображения чашки петри с растениями(roi)\n",
        "  path_cutted_petri = os.path.join(path_cutted_roi, el)\n",
        "\n",
        "  #сортировка контуров в изначальном изображении, чтобы найти контур чашки\n",
        "  cnts_petri = sorted(contours, key=cv2.contourArea, reverse=True)[1]\n",
        "\n",
        "  #удаление всей внешней области фотографии, не входящей в контур петри\n",
        "  final = image_petri_cnt(raw, cnts_petri)\n",
        "\n",
        "  #обрезка изображения по контуру чашки петри\n",
        "  roi =  image_petri_cnt_cutter(final, path_cutted_petri)\n"
      ],
      "metadata": {
        "id": "ApGwO8cGrr9R",
        "colab": {
          "base_uri": "https://localhost:8080/"
        },
        "outputId": "4e610603-8641-4160-d5b8-b601fc62d65f"
      },
      "execution_count": null,
      "outputs": [
        {
          "output_type": "stream",
          "name": "stdout",
          "text": [
            "001 1.JPG\n",
            "001 2.JPG\n",
            "001 3.JPG\n",
            "001 4.JPG\n",
            "003 1.JPG\n",
            "003 2.JPG\n",
            "003 4.JPG\n",
            "control 1.JPG\n",
            "control 2.JPG\n",
            "control 3.JPG\n"
          ]
        }
      ]
    }
  ]
}